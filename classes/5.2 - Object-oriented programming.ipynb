{
 "cells": [
  {
   "cell_type": "markdown",
   "metadata": {},
   "source": [
    "# 5.2 - Programacion orientada a objetos\n",
    "\n",
    "![oop](images/oop.png)\n",
    "\n",
    "La programación orientada a objetos tiene otra filosofía diferente que la programación funcional. En realidad python es orientado a objetos, cada vez que se declara una variable como una lista o una string, se esta llamando a esa clase. Para verlo tan solo hace falta escribir `help`"
   ]
  },
  {
   "cell_type": "code",
   "execution_count": 2,
   "metadata": {
    "scrolled": true
   },
   "outputs": [],
   "source": [
    "#help(str)"
   ]
  },
  {
   "cell_type": "code",
   "execution_count": 4,
   "metadata": {},
   "outputs": [],
   "source": [
    "#help(list)"
   ]
  },
  {
   "cell_type": "code",
   "execution_count": 6,
   "metadata": {},
   "outputs": [],
   "source": [
    "#help(int)"
   ]
  },
  {
   "cell_type": "markdown",
   "metadata": {},
   "source": [
    "Se devuelve una descripción de ambas clases.\n",
    "\n",
    "El mayor cambio en el paradigma es que ahora los datos no son inmutables, como eran en la programación funcional, datos y funciones están encapsulados en un objeto (la clase). Cada llamada a la clase (instancia) es un objeto nuevo.\n",
    "\n",
    "![objetos](images/objetos.png)"
   ]
  },
  {
   "cell_type": "markdown",
   "metadata": {},
   "source": [
    "### Nomenclatura\n",
    "- Objeto (Object)\n",
    "    - también instancia (instance)\n",
    "    - es una entidad individual\n",
    "- Atributos (Attributes)\n",
    "    - características dadas al objeto\n",
    "    - usualmente se refiere a los datos\n",
    "- Métodos (Methods)\n",
    "    - son las funciones que pertenecen a cada objeto\n",
    "- Clase (Class)\n",
    "    - también conocido como tipo (type)\n",
    "    - es el molde, el esquema, la forma genérica para crear objetos (instancias) con la mismas características\n",
    "    \n",
    "**En python, a los atributos se accede con la sintaxis objeto.atributo y a los métodos con objeto.metodo().**"
   ]
  },
  {
   "cell_type": "code",
   "execution_count": 7,
   "metadata": {},
   "outputs": [],
   "source": [
    "# primero funcional\n",
    "\n",
    "# datos\n",
    "\n",
    "mando={'color': 'blanco',\n",
    "       \n",
    "       'dimensiones': [10, 5, 2],\n",
    "       \n",
    "       'inalambrico': True,\n",
    "       \n",
    "       'recargable': True,\n",
    "       \n",
    "       'botones': ['POWER', 'UP', 'DOWN'],\n",
    "       \n",
    "       'baterias': [{'tipo': 'AAA', 'carga': 40},\n",
    "                    {'tipo': 'AAA', 'carga': 60}]}"
   ]
  },
  {
   "cell_type": "code",
   "execution_count": 10,
   "metadata": {},
   "outputs": [
    {
     "data": {
      "text/plain": [
       "40"
      ]
     },
     "execution_count": 10,
     "metadata": {},
     "output_type": "execute_result"
    }
   ],
   "source": [
    "mando['baterias'][0]['carga']"
   ]
  },
  {
   "cell_type": "code",
   "execution_count": 11,
   "metadata": {},
   "outputs": [],
   "source": [
    "def funciona(m):\n",
    "    \n",
    "    if len(m['baterias'])!=2 : return False\n",
    "    \n",
    "    for b in m['baterias']:\n",
    "        \n",
    "        if b['carga']==0:\n",
    "            \n",
    "            return False\n",
    "        \n",
    "    return True"
   ]
  },
  {
   "cell_type": "code",
   "execution_count": 17,
   "metadata": {},
   "outputs": [],
   "source": [
    "def encender(m):\n",
    "    \n",
    "    if funciona(m):\n",
    "        \n",
    "        for btn in m['botones']:\n",
    "            \n",
    "            if btn=='POWER':\n",
    "                return True\n",
    "            \n",
    "            \n",
    "    return False"
   ]
  },
  {
   "cell_type": "code",
   "execution_count": 12,
   "metadata": {},
   "outputs": [],
   "source": [
    "def recargar(m):\n",
    "    \n",
    "    if m['recargable']:\n",
    "        \n",
    "        for b in m['baterias']:\n",
    "            \n",
    "            b['carga']=100       # sobreescribo  el dato\n",
    "            \n",
    "    return m"
   ]
  },
  {
   "cell_type": "code",
   "execution_count": 13,
   "metadata": {},
   "outputs": [
    {
     "data": {
      "text/plain": [
       "{'color': 'blanco',\n",
       " 'dimensiones': [10, 5, 2],\n",
       " 'inalambrico': True,\n",
       " 'recargable': True,\n",
       " 'botones': ['POWER', 'UP', 'DOWN'],\n",
       " 'baterias': [{'tipo': 'AAA', 'carga': 40}, {'tipo': 'AAA', 'carga': 60}]}"
      ]
     },
     "execution_count": 13,
     "metadata": {},
     "output_type": "execute_result"
    }
   ],
   "source": [
    "mando"
   ]
  },
  {
   "cell_type": "code",
   "execution_count": 14,
   "metadata": {},
   "outputs": [
    {
     "data": {
      "text/plain": [
       "True"
      ]
     },
     "execution_count": 14,
     "metadata": {},
     "output_type": "execute_result"
    }
   ],
   "source": [
    "funciona(mando)"
   ]
  },
  {
   "cell_type": "code",
   "execution_count": 15,
   "metadata": {},
   "outputs": [
    {
     "data": {
      "text/plain": [
       "{'color': 'blanco',\n",
       " 'dimensiones': [10, 5, 2],\n",
       " 'inalambrico': True,\n",
       " 'recargable': True,\n",
       " 'botones': ['POWER', 'UP', 'DOWN'],\n",
       " 'baterias': [{'tipo': 'AAA', 'carga': 100}, {'tipo': 'AAA', 'carga': 100}]}"
      ]
     },
     "execution_count": 15,
     "metadata": {},
     "output_type": "execute_result"
    }
   ],
   "source": [
    "recargar(mando)"
   ]
  },
  {
   "cell_type": "code",
   "execution_count": 18,
   "metadata": {},
   "outputs": [
    {
     "data": {
      "text/plain": [
       "True"
      ]
     },
     "execution_count": 18,
     "metadata": {},
     "output_type": "execute_result"
    }
   ],
   "source": [
    "encender(mando)"
   ]
  },
  {
   "cell_type": "code",
   "execution_count": 19,
   "metadata": {},
   "outputs": [
    {
     "data": {
      "text/plain": [
       "{'color': 'blanco',\n",
       " 'dimensiones': [10, 5, 2],\n",
       " 'inalambrico': True,\n",
       " 'recargable': True,\n",
       " 'botones': ['POWER', 'UP', 'DOWN'],\n",
       " 'baterias': [{'tipo': 'AAA', 'carga': 100}, {'tipo': 'AAA', 'carga': 100}]}"
      ]
     },
     "execution_count": 19,
     "metadata": {},
     "output_type": "execute_result"
    }
   ],
   "source": [
    "mando"
   ]
  },
  {
   "cell_type": "code",
   "execution_count": 20,
   "metadata": {},
   "outputs": [],
   "source": [
    "# ahora como objeto (esto es el molde, la clase)\n",
    "\n",
    "class Mando:\n",
    "    \n",
    "    # metodo constructor, donde estan los atributos\n",
    "    def __init__(self, color, dimensiones, con_pilas=True):\n",
    "        \n",
    "        #atributos (datos)\n",
    "        self.color=color\n",
    "        self.dimensiones=dimensiones\n",
    "        \n",
    "        self.recargable=True\n",
    "        self.botones=['POWER', 'UP', 'DOWN']\n",
    "        self.inalambrico=True\n",
    "        \n",
    "        if con_pilas:\n",
    "            self.baterias=[{'tipo': 'AAA', 'carga': 40}, \n",
    "                           {'tipo': 'AAA', 'carga': 60}]\n",
    "        else:\n",
    "            self.baterias=[]\n",
    "    \n",
    "    \n",
    "    def funciona(self):\n",
    "    \n",
    "        if len(self.baterias)!=2 : return False\n",
    "\n",
    "        for b in self.baterias:\n",
    "\n",
    "            if b['carga']==0:\n",
    "\n",
    "                return False\n",
    "\n",
    "        return True\n",
    "    \n",
    "    \n",
    "    def encender(self):\n",
    "    \n",
    "        if self.funciona():\n",
    "\n",
    "            for btn in self.botones:\n",
    "\n",
    "                if btn=='POWER':\n",
    "                    return True\n",
    "\n",
    "        return False\n",
    "    \n",
    "    \n",
    "    def recargar(self):\n",
    "    \n",
    "        if self.recargable:\n",
    "\n",
    "            for b in self.baterias:\n",
    "\n",
    "                b['carga']=100       # sobreescribo el atributo\n",
    "    \n",
    "    \n",
    "    def pon_pila(self, carga=0):\n",
    "        self.baterias.append({'tipo':'AAA', 'carga': carga})\n",
    "    "
   ]
  },
  {
   "cell_type": "code",
   "execution_count": 21,
   "metadata": {},
   "outputs": [
    {
     "name": "stdout",
     "output_type": "stream",
     "text": [
      "Help on class Mando in module __main__:\n",
      "\n",
      "class Mando(builtins.object)\n",
      " |  Mando(color, dimensiones, con_pilas=True)\n",
      " |  \n",
      " |  Methods defined here:\n",
      " |  \n",
      " |  __init__(self, color, dimensiones, con_pilas=True)\n",
      " |      Initialize self.  See help(type(self)) for accurate signature.\n",
      " |  \n",
      " |  encender(self)\n",
      " |  \n",
      " |  funciona(self)\n",
      " |  \n",
      " |  pon_pila(self, carga=0)\n",
      " |  \n",
      " |  recargar(self)\n",
      " |  \n",
      " |  ----------------------------------------------------------------------\n",
      " |  Data descriptors defined here:\n",
      " |  \n",
      " |  __dict__\n",
      " |      dictionary for instance variables (if defined)\n",
      " |  \n",
      " |  __weakref__\n",
      " |      list of weak references to the object (if defined)\n",
      "\n"
     ]
    }
   ],
   "source": [
    "help(Mando)"
   ]
  },
  {
   "cell_type": "code",
   "execution_count": 23,
   "metadata": {},
   "outputs": [
    {
     "name": "stdout",
     "output_type": "stream",
     "text": [
      "<__main__.Mando object at 0x1078ea4f0>\n"
     ]
    }
   ],
   "source": [
    "m1 = Mando('blanco', [10, 5, 2])  # aqui los args del metodo constructor\n",
    "\n",
    "print(m1)"
   ]
  },
  {
   "cell_type": "code",
   "execution_count": 24,
   "metadata": {},
   "outputs": [
    {
     "data": {
      "text/plain": [
       "__main__.Mando"
      ]
     },
     "execution_count": 24,
     "metadata": {},
     "output_type": "execute_result"
    }
   ],
   "source": [
    "type(m1)"
   ]
  },
  {
   "cell_type": "code",
   "execution_count": 25,
   "metadata": {},
   "outputs": [
    {
     "data": {
      "text/plain": [
       "['POWER', 'UP', 'DOWN']"
      ]
     },
     "execution_count": 25,
     "metadata": {},
     "output_type": "execute_result"
    }
   ],
   "source": [
    "# acceso atributos\n",
    "\n",
    "m1.botones"
   ]
  },
  {
   "cell_type": "code",
   "execution_count": 26,
   "metadata": {},
   "outputs": [
    {
     "data": {
      "text/plain": [
       "'blanco'"
      ]
     },
     "execution_count": 26,
     "metadata": {},
     "output_type": "execute_result"
    }
   ],
   "source": [
    "m1.color"
   ]
  },
  {
   "cell_type": "code",
   "execution_count": 27,
   "metadata": {},
   "outputs": [],
   "source": [
    "m1.botones = [1,2,3,4,5,6,7,8,9]"
   ]
  },
  {
   "cell_type": "code",
   "execution_count": 28,
   "metadata": {},
   "outputs": [
    {
     "data": {
      "text/plain": [
       "[1, 2, 3, 4, 5, 6, 7, 8, 9]"
      ]
     },
     "execution_count": 28,
     "metadata": {},
     "output_type": "execute_result"
    }
   ],
   "source": [
    "m1.botones "
   ]
  },
  {
   "cell_type": "code",
   "execution_count": 29,
   "metadata": {},
   "outputs": [],
   "source": [
    "m2 = Mando('negro', [50, 50, 50])"
   ]
  },
  {
   "cell_type": "code",
   "execution_count": 31,
   "metadata": {},
   "outputs": [
    {
     "data": {
      "text/plain": [
       "'negro'"
      ]
     },
     "execution_count": 31,
     "metadata": {},
     "output_type": "execute_result"
    }
   ],
   "source": [
    "m2.color"
   ]
  },
  {
   "cell_type": "code",
   "execution_count": 32,
   "metadata": {},
   "outputs": [
    {
     "data": {
      "text/plain": [
       "['POWER', 'UP', 'DOWN']"
      ]
     },
     "execution_count": 32,
     "metadata": {},
     "output_type": "execute_result"
    }
   ],
   "source": [
    "m2.botones"
   ]
  },
  {
   "cell_type": "code",
   "execution_count": 33,
   "metadata": {},
   "outputs": [
    {
     "data": {
      "text/plain": [
       "[50, 50, 50]"
      ]
     },
     "execution_count": 33,
     "metadata": {},
     "output_type": "execute_result"
    }
   ],
   "source": [
    "m2.dimensiones"
   ]
  },
  {
   "cell_type": "code",
   "execution_count": 34,
   "metadata": {},
   "outputs": [
    {
     "data": {
      "text/plain": [
       "True"
      ]
     },
     "execution_count": 34,
     "metadata": {},
     "output_type": "execute_result"
    }
   ],
   "source": [
    "m2.funciona()    # parentesis, es un metodo, una funcion"
   ]
  },
  {
   "cell_type": "code",
   "execution_count": 35,
   "metadata": {},
   "outputs": [],
   "source": [
    "m3=Mando('rojo', [5, 3, 2], con_pilas=False)"
   ]
  },
  {
   "cell_type": "code",
   "execution_count": 36,
   "metadata": {},
   "outputs": [
    {
     "data": {
      "text/plain": [
       "False"
      ]
     },
     "execution_count": 36,
     "metadata": {},
     "output_type": "execute_result"
    }
   ],
   "source": [
    "m3.funciona() "
   ]
  },
  {
   "cell_type": "code",
   "execution_count": 37,
   "metadata": {},
   "outputs": [],
   "source": [
    "m3.pon_pila(100)"
   ]
  },
  {
   "cell_type": "code",
   "execution_count": 38,
   "metadata": {},
   "outputs": [
    {
     "data": {
      "text/plain": [
       "[{'tipo': 'AAA', 'carga': 100}]"
      ]
     },
     "execution_count": 38,
     "metadata": {},
     "output_type": "execute_result"
    }
   ],
   "source": [
    "m3.baterias"
   ]
  },
  {
   "cell_type": "code",
   "execution_count": 39,
   "metadata": {},
   "outputs": [
    {
     "data": {
      "text/plain": [
       "[{'tipo': 'AAA', 'carga': 100}, {'tipo': 'AAA', 'carga': 40}]"
      ]
     },
     "execution_count": 39,
     "metadata": {},
     "output_type": "execute_result"
    }
   ],
   "source": [
    "m3.pon_pila(40)\n",
    "\n",
    "\n",
    "m3.baterias"
   ]
  },
  {
   "cell_type": "code",
   "execution_count": 40,
   "metadata": {},
   "outputs": [
    {
     "data": {
      "text/plain": [
       "True"
      ]
     },
     "execution_count": 40,
     "metadata": {},
     "output_type": "execute_result"
    }
   ],
   "source": [
    "m3.funciona() "
   ]
  },
  {
   "cell_type": "code",
   "execution_count": 42,
   "metadata": {},
   "outputs": [],
   "source": [
    "#help(list)"
   ]
  },
  {
   "cell_type": "markdown",
   "metadata": {},
   "source": [
    "### Herencia (Inheritance)\n",
    "\n",
    "Imaginemos que dos clases diferentes comparten algunas características."
   ]
  },
  {
   "cell_type": "code",
   "execution_count": 44,
   "metadata": {},
   "outputs": [],
   "source": [
    "class Animal:     # clase madre/padre\n",
    "    \n",
    "    def __init__(self, nombre='', sonido=''):\n",
    "        \n",
    "        self.nombre=nombre\n",
    "        self.sonido=sonido\n",
    "        \n",
    "        \n",
    "    def decir_nombre(self):\n",
    "        print(f'Mi nombre es {self.nombre}')"
   ]
  },
  {
   "cell_type": "code",
   "execution_count": 45,
   "metadata": {},
   "outputs": [],
   "source": [
    "class Perro(Animal):     # clase hija, () hereda\n",
    "    \n",
    "    def __init__(self, nombre='Inu', raza='akita', sonido='ladrar'):\n",
    "        \n",
    "        Animal.__init__(self, nombre+'🐶', sonido)   # self.nombre, self.sonido......\n",
    "        \n",
    "        self.raza = raza"
   ]
  },
  {
   "cell_type": "code",
   "execution_count": 46,
   "metadata": {},
   "outputs": [],
   "source": [
    "a1 = Animal('Garfield 🦁')\n",
    "\n",
    "a2 = Perro()\n",
    "\n",
    "a3 = Perro('Bob', 'pastor aleman')"
   ]
  },
  {
   "cell_type": "code",
   "execution_count": 47,
   "metadata": {},
   "outputs": [
    {
     "name": "stdout",
     "output_type": "stream",
     "text": [
      "Mi nombre es Garfield 🦁\n"
     ]
    }
   ],
   "source": [
    "a1.decir_nombre()"
   ]
  },
  {
   "cell_type": "code",
   "execution_count": 48,
   "metadata": {},
   "outputs": [
    {
     "name": "stdout",
     "output_type": "stream",
     "text": [
      "Mi nombre es Inu🐶\n"
     ]
    }
   ],
   "source": [
    "a2.decir_nombre()"
   ]
  },
  {
   "cell_type": "code",
   "execution_count": 49,
   "metadata": {},
   "outputs": [
    {
     "name": "stdout",
     "output_type": "stream",
     "text": [
      "Mi nombre es Bob🐶\n"
     ]
    }
   ],
   "source": [
    "a3.decir_nombre()"
   ]
  },
  {
   "cell_type": "code",
   "execution_count": 50,
   "metadata": {},
   "outputs": [
    {
     "data": {
      "text/plain": [
       "'Garfield 🦁'"
      ]
     },
     "execution_count": 50,
     "metadata": {},
     "output_type": "execute_result"
    }
   ],
   "source": [
    "a1.nombre"
   ]
  },
  {
   "cell_type": "code",
   "execution_count": 51,
   "metadata": {},
   "outputs": [
    {
     "data": {
      "text/plain": [
       "'Inu🐶'"
      ]
     },
     "execution_count": 51,
     "metadata": {},
     "output_type": "execute_result"
    }
   ],
   "source": [
    "a2.nombre"
   ]
  },
  {
   "cell_type": "code",
   "execution_count": 52,
   "metadata": {},
   "outputs": [
    {
     "data": {
      "text/plain": [
       "'Bob🐶'"
      ]
     },
     "execution_count": 52,
     "metadata": {},
     "output_type": "execute_result"
    }
   ],
   "source": [
    "a3.nombre"
   ]
  },
  {
   "cell_type": "code",
   "execution_count": 53,
   "metadata": {},
   "outputs": [
    {
     "data": {
      "text/plain": [
       "'ladrar'"
      ]
     },
     "execution_count": 53,
     "metadata": {},
     "output_type": "execute_result"
    }
   ],
   "source": [
    "a3.sonido"
   ]
  },
  {
   "cell_type": "code",
   "execution_count": 54,
   "metadata": {},
   "outputs": [
    {
     "data": {
      "text/plain": [
       "''"
      ]
     },
     "execution_count": 54,
     "metadata": {},
     "output_type": "execute_result"
    }
   ],
   "source": [
    "a1.sonido"
   ]
  },
  {
   "cell_type": "code",
   "execution_count": 55,
   "metadata": {},
   "outputs": [],
   "source": [
    "a1.sonido = 'maullar'"
   ]
  },
  {
   "cell_type": "code",
   "execution_count": 56,
   "metadata": {},
   "outputs": [
    {
     "data": {
      "text/plain": [
       "'maullar'"
      ]
     },
     "execution_count": 56,
     "metadata": {},
     "output_type": "execute_result"
    }
   ],
   "source": [
    "a1.sonido"
   ]
  },
  {
   "cell_type": "code",
   "execution_count": 57,
   "metadata": {},
   "outputs": [],
   "source": [
    "a3.sonido = 'maullar'"
   ]
  },
  {
   "cell_type": "code",
   "execution_count": 58,
   "metadata": {},
   "outputs": [
    {
     "data": {
      "text/plain": [
       "'maullar'"
      ]
     },
     "execution_count": 58,
     "metadata": {},
     "output_type": "execute_result"
    }
   ],
   "source": [
    "a3.sonido"
   ]
  },
  {
   "cell_type": "code",
   "execution_count": 71,
   "metadata": {},
   "outputs": [],
   "source": [
    "class Pastor(Perro):    # clase nieta\n",
    "    \n",
    "    def __init__(self, nombre='Rex', raza='pastor'):\n",
    "        \n",
    "        Perro.__init__(self, nombre, 'ladrar')\n",
    "        #self.nombre=nombre\n",
    "        self.raza=raza"
   ]
  },
  {
   "cell_type": "code",
   "execution_count": 72,
   "metadata": {},
   "outputs": [],
   "source": [
    "a4 = Pastor()"
   ]
  },
  {
   "cell_type": "code",
   "execution_count": 73,
   "metadata": {},
   "outputs": [
    {
     "data": {
      "text/plain": [
       "'Rex🐶'"
      ]
     },
     "execution_count": 73,
     "metadata": {},
     "output_type": "execute_result"
    }
   ],
   "source": [
    "a4.nombre"
   ]
  },
  {
   "cell_type": "code",
   "execution_count": 74,
   "metadata": {},
   "outputs": [
    {
     "name": "stdout",
     "output_type": "stream",
     "text": [
      "Mi nombre es Rex🐶\n"
     ]
    }
   ],
   "source": [
    "a4.decir_nombre()"
   ]
  },
  {
   "cell_type": "code",
   "execution_count": 75,
   "metadata": {},
   "outputs": [
    {
     "data": {
      "text/plain": [
       "'ladrar'"
      ]
     },
     "execution_count": 75,
     "metadata": {},
     "output_type": "execute_result"
    }
   ],
   "source": [
    "a4.sonido"
   ]
  },
  {
   "cell_type": "markdown",
   "metadata": {},
   "source": [
    "## Métodos dunder\n",
    "#### métodos  __especiales__  \n",
    "\n",
    "- Se les llama `dunders` por la doble barra que tienen(double underscores) \n",
    "- También se les llama método mágicos (magic methods)\n",
    "- Conecta funciones con comportamientos y operadores externos\n",
    "\n",
    "Una pequeña lista:\n",
    "\n",
    "- `__repr__` : Representación oficial de una string (cuando se imprime el objeto)\n",
    "- `__str__` : Conversion a string y print\n",
    "- `__len__` : Cuando se pasa `len` a un iterable\n",
    "\n",
    "\n",
    "#### Operadores de comparación\n",
    "- `__eq__` : ==\n",
    "- `__ne__` : !=\n",
    "- `__lt__` : <\n",
    "- `__le__` : <=\n",
    "- `__gt__` : >\n",
    "- `__ge__` : >=\n",
    "\n",
    "\n",
    "#### Operadores\n",
    "- `__add__` : +\n",
    "- `__mul__` : *\n",
    "- `__truediv__` : /\n",
    "- `__sub__` : - \n",
    "\n",
    "**Más [información](https://docs.python.org/3/library/operator.html).**"
   ]
  },
  {
   "cell_type": "code",
   "execution_count": 76,
   "metadata": {},
   "outputs": [],
   "source": [
    "class Cat:\n",
    "    \n",
    "    def __eq__(self, x):\n",
    "        return True"
   ]
  },
  {
   "cell_type": "code",
   "execution_count": 77,
   "metadata": {},
   "outputs": [],
   "source": [
    "gato=Cat()"
   ]
  },
  {
   "cell_type": "code",
   "execution_count": 78,
   "metadata": {},
   "outputs": [
    {
     "name": "stdout",
     "output_type": "stream",
     "text": [
      "Help on Cat in module __main__ object:\n",
      "\n",
      "class Cat(builtins.object)\n",
      " |  Methods defined here:\n",
      " |  \n",
      " |  __eq__(self, x)\n",
      " |      Return self==value.\n",
      " |  \n",
      " |  ----------------------------------------------------------------------\n",
      " |  Data descriptors defined here:\n",
      " |  \n",
      " |  __dict__\n",
      " |      dictionary for instance variables (if defined)\n",
      " |  \n",
      " |  __weakref__\n",
      " |      list of weak references to the object (if defined)\n",
      " |  \n",
      " |  ----------------------------------------------------------------------\n",
      " |  Data and other attributes defined here:\n",
      " |  \n",
      " |  __hash__ = None\n",
      "\n"
     ]
    }
   ],
   "source": [
    "help(gato)"
   ]
  },
  {
   "cell_type": "code",
   "execution_count": 79,
   "metadata": {},
   "outputs": [
    {
     "data": {
      "text/plain": [
       "True"
      ]
     },
     "execution_count": 79,
     "metadata": {},
     "output_type": "execute_result"
    }
   ],
   "source": [
    "gato==True"
   ]
  },
  {
   "cell_type": "code",
   "execution_count": 80,
   "metadata": {},
   "outputs": [
    {
     "data": {
      "text/plain": [
       "True"
      ]
     },
     "execution_count": 80,
     "metadata": {},
     "output_type": "execute_result"
    }
   ],
   "source": [
    "gato==False"
   ]
  },
  {
   "cell_type": "code",
   "execution_count": 81,
   "metadata": {},
   "outputs": [
    {
     "data": {
      "text/plain": [
       "True"
      ]
     },
     "execution_count": 81,
     "metadata": {},
     "output_type": "execute_result"
    }
   ],
   "source": [
    "gato=='hola'"
   ]
  },
  {
   "cell_type": "code",
   "execution_count": 82,
   "metadata": {},
   "outputs": [
    {
     "data": {
      "text/plain": [
       "True"
      ]
     },
     "execution_count": 82,
     "metadata": {},
     "output_type": "execute_result"
    }
   ],
   "source": [
    "gato==0"
   ]
  },
  {
   "cell_type": "code",
   "execution_count": 83,
   "metadata": {},
   "outputs": [
    {
     "data": {
      "text/plain": [
       "False"
      ]
     },
     "execution_count": 83,
     "metadata": {},
     "output_type": "execute_result"
    }
   ],
   "source": [
    "2==7"
   ]
  },
  {
   "cell_type": "code",
   "execution_count": 84,
   "metadata": {},
   "outputs": [
    {
     "data": {
      "text/plain": [
       "True"
      ]
     },
     "execution_count": 84,
     "metadata": {},
     "output_type": "execute_result"
    }
   ],
   "source": [
    "gato=='gato'"
   ]
  },
  {
   "cell_type": "code",
   "execution_count": 85,
   "metadata": {},
   "outputs": [
    {
     "data": {
      "text/plain": [
       "True"
      ]
     },
     "execution_count": 85,
     "metadata": {},
     "output_type": "execute_result"
    }
   ],
   "source": [
    "gato.__eq__(0)"
   ]
  },
  {
   "cell_type": "code",
   "execution_count": 87,
   "metadata": {},
   "outputs": [
    {
     "data": {
      "text/plain": [
       "True"
      ]
     },
     "execution_count": 87,
     "metadata": {},
     "output_type": "execute_result"
    }
   ],
   "source": [
    "a=0\n",
    "\n",
    "a.__eq__(0)"
   ]
  },
  {
   "cell_type": "markdown",
   "metadata": {},
   "source": [
    "**Otro ejemplo**"
   ]
  },
  {
   "cell_type": "code",
   "execution_count": 101,
   "metadata": {},
   "outputs": [],
   "source": [
    "class Usuario:\n",
    "    \n",
    "    VAR=90   # Constante\n",
    "      \n",
    "    def __init__(self, nombre, password, edad):\n",
    "        \n",
    "        self.nombre=nombre\n",
    "        self.password=password\n",
    "        self.edad=edad\n",
    "        \n",
    "        \n",
    "    def __eq__(self, otro_usuario):\n",
    "        #igualdad\n",
    "        return self.nombre==otro_usuario.nombre and self.password==otro_usuario.password\n",
    "    \n",
    "    def __lt__(self, otro_usuario):\n",
    "        # menor que..\n",
    "        return self.edad < otro_usuario.edad\n",
    "    \n",
    "    def __gt__(self, otro_usuario):\n",
    "        # mayor que..\n",
    "        return self.edad > otro_usuario.edad\n",
    "    \n",
    "    def __str__(self):\n",
    "        # lo que sale en el print del objeto\n",
    "        #print(Usuario.VAR)\n",
    "        return f'Nombre: {self.nombre}. Edad: {self.edad}'\n",
    "    \n",
    "    \n",
    "    @staticmethod\n",
    "    def hola(x):\n",
    "        return x\n",
    "    \n",
    "    def saludar_2(self):\n",
    "        return Usuario.hola('hola')"
   ]
  },
  {
   "cell_type": "code",
   "execution_count": 102,
   "metadata": {},
   "outputs": [],
   "source": [
    "usuario_1=Usuario('Pepe', '1234', 30)\n",
    "\n",
    "usuario_2=Usuario('Juana', '1234', 24)\n",
    "\n",
    "usuario_3=Usuario('Pepe', '1234', 30)"
   ]
  },
  {
   "cell_type": "code",
   "execution_count": 103,
   "metadata": {},
   "outputs": [
    {
     "data": {
      "text/plain": [
       "False"
      ]
     },
     "execution_count": 103,
     "metadata": {},
     "output_type": "execute_result"
    }
   ],
   "source": [
    "usuario_1 == usuario_2"
   ]
  },
  {
   "cell_type": "code",
   "execution_count": 104,
   "metadata": {},
   "outputs": [
    {
     "data": {
      "text/plain": [
       "True"
      ]
     },
     "execution_count": 104,
     "metadata": {},
     "output_type": "execute_result"
    }
   ],
   "source": [
    "usuario_1 == usuario_3"
   ]
  },
  {
   "cell_type": "code",
   "execution_count": 105,
   "metadata": {},
   "outputs": [
    {
     "data": {
      "text/plain": [
       "True"
      ]
     },
     "execution_count": 105,
     "metadata": {},
     "output_type": "execute_result"
    }
   ],
   "source": [
    "usuario_1 > usuario_2"
   ]
  },
  {
   "cell_type": "code",
   "execution_count": 106,
   "metadata": {},
   "outputs": [
    {
     "data": {
      "text/plain": [
       "False"
      ]
     },
     "execution_count": 106,
     "metadata": {},
     "output_type": "execute_result"
    }
   ],
   "source": [
    "usuario_1 < usuario_3"
   ]
  },
  {
   "cell_type": "code",
   "execution_count": 107,
   "metadata": {},
   "outputs": [
    {
     "data": {
      "text/plain": [
       "<__main__.Usuario at 0x107e0df40>"
      ]
     },
     "execution_count": 107,
     "metadata": {},
     "output_type": "execute_result"
    }
   ],
   "source": [
    "usuario_1"
   ]
  },
  {
   "cell_type": "code",
   "execution_count": 108,
   "metadata": {},
   "outputs": [
    {
     "name": "stdout",
     "output_type": "stream",
     "text": [
      "Nombre: Pepe. Edad: 30\n"
     ]
    }
   ],
   "source": [
    "print(usuario_1)"
   ]
  },
  {
   "cell_type": "code",
   "execution_count": 109,
   "metadata": {},
   "outputs": [
    {
     "data": {
      "text/plain": [
       "90"
      ]
     },
     "execution_count": 109,
     "metadata": {},
     "output_type": "execute_result"
    }
   ],
   "source": [
    "usuario_1.VAR"
   ]
  },
  {
   "cell_type": "code",
   "execution_count": 110,
   "metadata": {},
   "outputs": [
    {
     "data": {
      "text/plain": [
       "1000"
      ]
     },
     "execution_count": 110,
     "metadata": {},
     "output_type": "execute_result"
    }
   ],
   "source": [
    "usuario_1.VAR = 1000\n",
    "\n",
    "usuario_1.VAR"
   ]
  },
  {
   "cell_type": "code",
   "execution_count": 111,
   "metadata": {},
   "outputs": [
    {
     "data": {
      "text/plain": [
       "90"
      ]
     },
     "execution_count": 111,
     "metadata": {},
     "output_type": "execute_result"
    }
   ],
   "source": [
    "usuario_2.VAR"
   ]
  },
  {
   "cell_type": "code",
   "execution_count": 116,
   "metadata": {},
   "outputs": [
    {
     "data": {
      "text/plain": [
       "'hola'"
      ]
     },
     "execution_count": 116,
     "metadata": {},
     "output_type": "execute_result"
    }
   ],
   "source": [
    "usuario_2.saludar_2()"
   ]
  },
  {
   "cell_type": "code",
   "execution_count": 117,
   "metadata": {},
   "outputs": [
    {
     "data": {
      "text/plain": [
       "'ogewirhnfowiefnoeirfn4'"
      ]
     },
     "execution_count": 117,
     "metadata": {},
     "output_type": "execute_result"
    }
   ],
   "source": [
    "usuario_2.hola('ogewirhnfowiefnoeirfn4')"
   ]
  },
  {
   "cell_type": "code",
   "execution_count": 112,
   "metadata": {},
   "outputs": [],
   "source": [
    "class Prueba:\n",
    "    \n",
    "    VAR=90\n",
    "    \n",
    "    def saludar(self):\n",
    "        return 'hola'"
   ]
  },
  {
   "cell_type": "code",
   "execution_count": 113,
   "metadata": {},
   "outputs": [],
   "source": [
    "p = Prueba()"
   ]
  },
  {
   "cell_type": "code",
   "execution_count": 114,
   "metadata": {},
   "outputs": [
    {
     "data": {
      "text/plain": [
       "90"
      ]
     },
     "execution_count": 114,
     "metadata": {},
     "output_type": "execute_result"
    }
   ],
   "source": [
    "p.VAR"
   ]
  },
  {
   "cell_type": "code",
   "execution_count": 115,
   "metadata": {},
   "outputs": [
    {
     "data": {
      "text/plain": [
       "'hola'"
      ]
     },
     "execution_count": 115,
     "metadata": {},
     "output_type": "execute_result"
    }
   ],
   "source": [
    "p.saludar()"
   ]
  },
  {
   "cell_type": "code",
   "execution_count": 125,
   "metadata": {},
   "outputs": [],
   "source": [
    "#help(list)"
   ]
  },
  {
   "cell_type": "code",
   "execution_count": 120,
   "metadata": {},
   "outputs": [
    {
     "data": {
      "text/plain": [
       "4"
      ]
     },
     "execution_count": 120,
     "metadata": {},
     "output_type": "execute_result"
    }
   ],
   "source": [
    "lst = [1,2,3,4]\n",
    "\n",
    "len(lst)"
   ]
  },
  {
   "cell_type": "code",
   "execution_count": 122,
   "metadata": {},
   "outputs": [
    {
     "data": {
      "text/plain": [
       "4"
      ]
     },
     "execution_count": 122,
     "metadata": {},
     "output_type": "execute_result"
    }
   ],
   "source": [
    "lst.__len__()"
   ]
  },
  {
   "cell_type": "code",
   "execution_count": 123,
   "metadata": {},
   "outputs": [
    {
     "ename": "AttributeError",
     "evalue": "'list' object has no attribute 'lower'",
     "output_type": "error",
     "traceback": [
      "\u001b[0;31m---------------------------------------------------------------------------\u001b[0m",
      "\u001b[0;31mAttributeError\u001b[0m                            Traceback (most recent call last)",
      "Cell \u001b[0;32mIn[123], line 1\u001b[0m\n\u001b[0;32m----> 1\u001b[0m \u001b[43mlst\u001b[49m\u001b[38;5;241;43m.\u001b[39;49m\u001b[43mlower\u001b[49m()\n",
      "\u001b[0;31mAttributeError\u001b[0m: 'list' object has no attribute 'lower'"
     ]
    }
   ],
   "source": [
    "lst.lower()"
   ]
  },
  {
   "cell_type": "code",
   "execution_count": 124,
   "metadata": {},
   "outputs": [
    {
     "ename": "AttributeError",
     "evalue": "'str' object has no attribute 'append'",
     "output_type": "error",
     "traceback": [
      "\u001b[0;31m---------------------------------------------------------------------------\u001b[0m",
      "\u001b[0;31mAttributeError\u001b[0m                            Traceback (most recent call last)",
      "Cell \u001b[0;32mIn[124], line 1\u001b[0m\n\u001b[0;32m----> 1\u001b[0m \u001b[38;5;124;43m'\u001b[39;49m\u001b[38;5;124;43moskfdgnoerkbo\u001b[39;49m\u001b[38;5;124;43m'\u001b[39;49m\u001b[38;5;241;43m.\u001b[39;49m\u001b[43mappend\u001b[49m(\u001b[38;5;241m9\u001b[39m)\n",
      "\u001b[0;31mAttributeError\u001b[0m: 'str' object has no attribute 'append'"
     ]
    }
   ],
   "source": [
    "'oskfdgnoerkbo'.append(9)"
   ]
  },
  {
   "cell_type": "code",
   "execution_count": null,
   "metadata": {},
   "outputs": [],
   "source": []
  }
 ],
 "metadata": {
  "finalized": {
   "timestamp": 1654248923945,
   "trusted": true
  },
  "kernelspec": {
   "display_name": "clase",
   "language": "python",
   "name": "clase"
  },
  "language_info": {
   "codemirror_mode": {
    "name": "ipython",
    "version": 3
   },
   "file_extension": ".py",
   "mimetype": "text/x-python",
   "name": "python",
   "nbconvert_exporter": "python",
   "pygments_lexer": "ipython3",
   "version": "3.9.12"
  },
  "varInspector": {
   "cols": {
    "lenName": 16,
    "lenType": 16,
    "lenVar": 40
   },
   "kernels_config": {
    "python": {
     "delete_cmd_postfix": "",
     "delete_cmd_prefix": "del ",
     "library": "var_list.py",
     "varRefreshCmd": "print(var_dic_list())"
    },
    "r": {
     "delete_cmd_postfix": ") ",
     "delete_cmd_prefix": "rm(",
     "library": "var_list.r",
     "varRefreshCmd": "cat(var_dic_list()) "
    }
   },
   "types_to_exclude": [
    "module",
    "function",
    "builtin_function_or_method",
    "instance",
    "_Feature"
   ],
   "window_display": false
  }
 },
 "nbformat": 4,
 "nbformat_minor": 4
}
