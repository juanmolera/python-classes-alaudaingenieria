{
 "cells": [
  {
   "cell_type": "markdown",
   "metadata": {},
   "source": [
    "# 4.3 - Manejo de errores\n",
    "\n",
    "\n",
    "![errores](images/errors.jpg)\n",
    "\n",
    "\n",
    "\n",
    "### ¿Qué es un error?\n",
    "\n",
    "Los errores (errors/exceptions) son fallos en el código que interrumpirán su ejecución."
   ]
  },
  {
   "cell_type": "code",
   "execution_count": 1,
   "metadata": {},
   "outputs": [
    {
     "name": "stdout",
     "output_type": "stream",
     "text": [
      "-0.5\n",
      "-1.0\n"
     ]
    },
    {
     "ename": "ZeroDivisionError",
     "evalue": "division by zero",
     "output_type": "error",
     "traceback": [
      "\u001b[0;31m---------------------------------------------------------------------------\u001b[0m",
      "\u001b[0;31mZeroDivisionError\u001b[0m                         Traceback (most recent call last)",
      "Cell \u001b[0;32mIn[1], line 3\u001b[0m\n\u001b[1;32m      1\u001b[0m \u001b[38;5;28;01mfor\u001b[39;00m i \u001b[38;5;129;01min\u001b[39;00m \u001b[38;5;28mrange\u001b[39m(\u001b[38;5;241m-\u001b[39m\u001b[38;5;241m2\u001b[39m, \u001b[38;5;241m5\u001b[39m):\n\u001b[0;32m----> 3\u001b[0m     \u001b[38;5;28mprint\u001b[39m(\u001b[38;5;241;43m1\u001b[39;49m\u001b[38;5;241;43m/\u001b[39;49m\u001b[43mi\u001b[49m)\n\u001b[1;32m      5\u001b[0m \u001b[38;5;28mprint\u001b[39m(\u001b[38;5;124m'\u001b[39m\u001b[38;5;124mfin\u001b[39m\u001b[38;5;124m'\u001b[39m)\n",
      "\u001b[0;31mZeroDivisionError\u001b[0m: division by zero"
     ]
    }
   ],
   "source": [
    "for i in range(-2, 5):\n",
    "    \n",
    "    print(1/i)\n",
    "    \n",
    "print('fin')"
   ]
  },
  {
   "cell_type": "markdown",
   "metadata": {},
   "source": [
    "- Los errores son un tipo específico de objetos en python.\n",
    "- Los errores se pueden lanzar a propósito con la palabra reservada `raise`.\n",
    "\n",
    "```  \n",
    "Levantar un error (con raise) implica parar completamente el programa.\n",
    "```\n",
    "\n",
    "Los errores usualmente contienen un mensaje en ellos.\n",
    "> Este mensaje sirve para ayudar al usuario a identificar el problema para encontrar un solución. Siempre es necesario la cuidadosa lectura de los errores para alcanzar una solución rápidamente."
   ]
  },
  {
   "cell_type": "code",
   "execution_count": 2,
   "metadata": {},
   "outputs": [
    {
     "ename": "NameError",
     "evalue": "Alegre, que las liao.....",
     "output_type": "error",
     "traceback": [
      "\u001b[0;31m---------------------------------------------------------------------------\u001b[0m",
      "\u001b[0;31mNameError\u001b[0m                                 Traceback (most recent call last)",
      "Cell \u001b[0;32mIn[2], line 1\u001b[0m\n\u001b[0;32m----> 1\u001b[0m \u001b[38;5;28;01mraise\u001b[39;00m \u001b[38;5;167;01mNameError\u001b[39;00m(\u001b[38;5;124m'\u001b[39m\u001b[38;5;124mAlegre, que las liao.....\u001b[39m\u001b[38;5;124m'\u001b[39m)\n",
      "\u001b[0;31mNameError\u001b[0m: Alegre, que las liao....."
     ]
    }
   ],
   "source": [
    "raise NameError('Alegre, que las liao.....')"
   ]
  },
  {
   "cell_type": "markdown",
   "metadata": {},
   "source": [
    "### Diferentes tipos de errores en python\n",
    "\n",
    "Existen muchos tipos diferentes de errores en python:\n",
    "```python\n",
    "AttributeError\n",
    "ImportError\n",
    "ModuleNotFoundError\n",
    "IndexError\n",
    "KeyError\n",
    "KeyboardInterrupt\n",
    "NameError\n",
    "SyntaxError\n",
    "TypeError\n",
    "ValueError\n",
    "ZeroDivisionError\n",
    "```\n",
    "Estos son solamente unos pocos, puedes ver en la documentación\n",
    "- [Built-in Exceptions](https://docs.python.org/3/library/exceptions.html)"
   ]
  },
  {
   "cell_type": "markdown",
   "metadata": {},
   "source": [
    "## `try...except`\n",
    "\n",
    "Ahora, ¿cómo controlamos los errores?\n",
    "\n",
    "Pues con la sintaxis `try...except`.\n",
    "\n",
    "El concepto es muy sencillo:\n",
    "\n",
    "> - `try` bloque de código que se ejecuta primero.\n",
    "> > - Si NO existen errores en el bloque `try`, se completará ese código sin ejecutar el bloque `except`\n",
    "> > - Si existen errores en el bloque `try`, salta al código del bloque `except`\n",
    "\n",
    "- Un bloque `try` siempre va acompañado de un bloque `except`\n",
    "\n",
    "\n",
    "- `NOTA:` Un error puede ocurrir en el bloque `except`. En ese caso, el mensaje contendrá la siguiente advertencia:\n",
    "````\n",
    "During handling of the above exception, another exception occurred:\n",
    "````\n"
   ]
  },
  {
   "cell_type": "code",
   "execution_count": 3,
   "metadata": {},
   "outputs": [
    {
     "name": "stdout",
     "output_type": "stream",
     "text": [
      "The Zen of Python, by Tim Peters\n",
      "\n",
      "Beautiful is better than ugly.\n",
      "Explicit is better than implicit.\n",
      "Simple is better than complex.\n",
      "Complex is better than complicated.\n",
      "Flat is better than nested.\n",
      "Sparse is better than dense.\n",
      "Readability counts.\n",
      "Special cases aren't special enough to break the rules.\n",
      "Although practicality beats purity.\n",
      "Errors should never pass silently.\n",
      "Unless explicitly silenced.\n",
      "In the face of ambiguity, refuse the temptation to guess.\n",
      "There should be one-- and preferably only one --obvious way to do it.\n",
      "Although that way may not be obvious at first unless you're Dutch.\n",
      "Now is better than never.\n",
      "Although never is often better than *right* now.\n",
      "If the implementation is hard to explain, it's a bad idea.\n",
      "If the implementation is easy to explain, it may be a good idea.\n",
      "Namespaces are one honking great idea -- let's do more of those!\n"
     ]
    }
   ],
   "source": [
    "import this"
   ]
  },
  {
   "cell_type": "code",
   "execution_count": 4,
   "metadata": {},
   "outputs": [
    {
     "name": "stdout",
     "output_type": "stream",
     "text": [
      "9\n",
      "La variable z no esta definida\n",
      "90\n"
     ]
    }
   ],
   "source": [
    "try:\n",
    "    print(9)\n",
    "    print(z)\n",
    "    print(8)\n",
    "    \n",
    "except:\n",
    "    print('La variable z no esta definida')\n",
    "    \n",
    "    \n",
    "print(90)"
   ]
  },
  {
   "cell_type": "code",
   "execution_count": 5,
   "metadata": {},
   "outputs": [
    {
     "ename": "NameError",
     "evalue": "name 'z' is not defined",
     "output_type": "error",
     "traceback": [
      "\u001b[0;31m---------------------------------------------------------------------------\u001b[0m",
      "\u001b[0;31mNameError\u001b[0m                                 Traceback (most recent call last)",
      "Cell \u001b[0;32mIn[5], line 1\u001b[0m\n\u001b[0;32m----> 1\u001b[0m \u001b[38;5;28mprint\u001b[39m(\u001b[43mz\u001b[49m)\n",
      "\u001b[0;31mNameError\u001b[0m: name 'z' is not defined"
     ]
    }
   ],
   "source": [
    "print(z)"
   ]
  },
  {
   "cell_type": "code",
   "execution_count": 6,
   "metadata": {},
   "outputs": [
    {
     "name": "stdout",
     "output_type": "stream",
     "text": [
      "9\n",
      "La variable z no esta definida\n"
     ]
    },
    {
     "ename": "ValueError",
     "evalue": "oye tio, define z anda......",
     "output_type": "error",
     "traceback": [
      "\u001b[0;31m---------------------------------------------------------------------------\u001b[0m",
      "\u001b[0;31mNameError\u001b[0m                                 Traceback (most recent call last)",
      "Cell \u001b[0;32mIn[6], line 3\u001b[0m\n\u001b[1;32m      2\u001b[0m \u001b[38;5;28mprint\u001b[39m(\u001b[38;5;241m9\u001b[39m)\n\u001b[0;32m----> 3\u001b[0m \u001b[38;5;28mprint\u001b[39m(\u001b[43mz\u001b[49m)\n\u001b[1;32m      4\u001b[0m \u001b[38;5;28mprint\u001b[39m(\u001b[38;5;241m8\u001b[39m)\n",
      "\u001b[0;31mNameError\u001b[0m: name 'z' is not defined",
      "\nDuring handling of the above exception, another exception occurred:\n",
      "\u001b[0;31mValueError\u001b[0m                                Traceback (most recent call last)",
      "Cell \u001b[0;32mIn[6], line 8\u001b[0m\n\u001b[1;32m      6\u001b[0m \u001b[38;5;28;01mexcept\u001b[39;00m:\n\u001b[1;32m      7\u001b[0m     \u001b[38;5;28mprint\u001b[39m(\u001b[38;5;124m'\u001b[39m\u001b[38;5;124mLa variable z no esta definida\u001b[39m\u001b[38;5;124m'\u001b[39m)\n\u001b[0;32m----> 8\u001b[0m     \u001b[38;5;28;01mraise\u001b[39;00m \u001b[38;5;167;01mValueError\u001b[39;00m(\u001b[38;5;124m'\u001b[39m\u001b[38;5;124moye tio, define z anda......\u001b[39m\u001b[38;5;124m'\u001b[39m)\n\u001b[1;32m     11\u001b[0m \u001b[38;5;28mprint\u001b[39m(\u001b[38;5;241m90\u001b[39m)\n",
      "\u001b[0;31mValueError\u001b[0m: oye tio, define z anda......"
     ]
    }
   ],
   "source": [
    "try:\n",
    "    print(9)\n",
    "    print(z)\n",
    "    print(8)\n",
    "    \n",
    "except:\n",
    "    print('La variable z no esta definida')\n",
    "    raise ValueError('oye tio, define z anda......')\n",
    "    \n",
    "    \n",
    "print(90)"
   ]
  },
  {
   "cell_type": "code",
   "execution_count": 7,
   "metadata": {},
   "outputs": [
    {
     "name": "stdout",
     "output_type": "stream",
     "text": [
      "9\n",
      "La variable z no esta definida\n"
     ]
    },
    {
     "ename": "NameError",
     "evalue": "name 'z' is not defined",
     "output_type": "error",
     "traceback": [
      "\u001b[0;31m---------------------------------------------------------------------------\u001b[0m",
      "\u001b[0;31mNameError\u001b[0m                                 Traceback (most recent call last)",
      "Cell \u001b[0;32mIn[7], line 10\u001b[0m\n\u001b[1;32m      6\u001b[0m \u001b[38;5;28;01mexcept\u001b[39;00m:\n\u001b[1;32m      7\u001b[0m     \u001b[38;5;28mprint\u001b[39m(\u001b[38;5;124m'\u001b[39m\u001b[38;5;124mLa variable z no esta definida\u001b[39m\u001b[38;5;124m'\u001b[39m)\n\u001b[0;32m---> 10\u001b[0m \u001b[38;5;28mprint\u001b[39m(\u001b[43mz\u001b[49m)\n",
      "\u001b[0;31mNameError\u001b[0m: name 'z' is not defined"
     ]
    }
   ],
   "source": [
    "try:\n",
    "    print(9)\n",
    "    print(z)\n",
    "    print(8)\n",
    "    \n",
    "except:\n",
    "    print('La variable z no esta definida')\n",
    "    \n",
    "    \n",
    "print(z)"
   ]
  },
  {
   "cell_type": "markdown",
   "metadata": {},
   "source": [
    "**Truco:** Como puede verse en el mensaje anterior, la línea de código que contiene el error tiene una flecha al lado. Si el error no está en esa línea, estará en la inmediatamente anterior. También puede verse el número de línea."
   ]
  },
  {
   "cell_type": "code",
   "execution_count": 8,
   "metadata": {},
   "outputs": [
    {
     "name": "stdout",
     "output_type": "stream",
     "text": [
      "Elemento a\n",
      "OOOooooopppppppssssssssss (<class 'ValueError'>, ValueError(\"invalid literal for int() with base 10: 'a'\"), <traceback object at 0x103a4ec00>)\n",
      "siguiente\n",
      "Elemento 0\n",
      "OOOooooopppppppssssssssss (<class 'ZeroDivisionError'>, ZeroDivisionError('division by zero'), <traceback object at 0x103a4e640>)\n",
      "siguiente\n",
      "Elemento 2\n",
      "0.5\n",
      "Elemento 0\n",
      "OOOooooopppppppssssssssss (<class 'ZeroDivisionError'>, ZeroDivisionError('division by zero'), <traceback object at 0x103663cc0>)\n",
      "siguiente\n",
      "Elemento oi\n",
      "OOOooooopppppppssssssssss (<class 'ValueError'>, ValueError(\"invalid literal for int() with base 10: 'oi'\"), <traceback object at 0x103a18640>)\n",
      "siguiente\n",
      "Elemento 4\n",
      "0.25\n",
      "Elemento 56\n",
      "0.017857142857142856\n",
      "99999999\n"
     ]
    }
   ],
   "source": [
    "import sys\n",
    "\n",
    "\n",
    "lst = ['a', 0, 2, 0, 'oi', 4, 56]\n",
    "\n",
    "\n",
    "errores=[]\n",
    "\n",
    "\n",
    "for e in lst:\n",
    "    \n",
    "    try:\n",
    "        print(f'Elemento {e}')\n",
    "        \n",
    "        d=1/int(e)\n",
    "        \n",
    "        print(d)\n",
    "        \n",
    "    except:\n",
    "        \n",
    "        print('OOOooooopppppppssssssssss', sys.exc_info())\n",
    "        print('siguiente')\n",
    "        errores.append(sys.exc_info())\n",
    "        \n",
    "        \n",
    "print(99999999)"
   ]
  },
  {
   "cell_type": "code",
   "execution_count": 9,
   "metadata": {},
   "outputs": [
    {
     "data": {
      "text/plain": [
       "[(ValueError,\n",
       "  ValueError(\"invalid literal for int() with base 10: 'a'\"),\n",
       "  <traceback at 0x103a4ec00>),\n",
       " (ZeroDivisionError,\n",
       "  ZeroDivisionError('division by zero'),\n",
       "  <traceback at 0x103a4e640>),\n",
       " (ZeroDivisionError,\n",
       "  ZeroDivisionError('division by zero'),\n",
       "  <traceback at 0x103663cc0>),\n",
       " (ValueError,\n",
       "  ValueError(\"invalid literal for int() with base 10: 'oi'\"),\n",
       "  <traceback at 0x103a18640>)]"
      ]
     },
     "execution_count": 9,
     "metadata": {},
     "output_type": "execute_result"
    }
   ],
   "source": [
    "errores"
   ]
  },
  {
   "cell_type": "code",
   "execution_count": 14,
   "metadata": {},
   "outputs": [
    {
     "data": {
      "text/plain": [
       "ZeroDivisionError"
      ]
     },
     "execution_count": 14,
     "metadata": {},
     "output_type": "execute_result"
    }
   ],
   "source": [
    "type(errores[1][1])"
   ]
  },
  {
   "cell_type": "markdown",
   "metadata": {},
   "source": [
    "### Multiples `except`\n",
    "\n",
    "Si queremos, podemos tener multiples bloques `except` para manejar diferentes tipos de error por separado. Es algo muy útil para manejar como nosotros queramos el flujo de errores, teniendo en cuenta **que solo se ejecutará uno de los bloques `except` en caso de surgir un error**."
   ]
  },
  {
   "cell_type": "code",
   "execution_count": 20,
   "metadata": {},
   "outputs": [
    {
     "name": "stdout",
     "output_type": "stream",
     "text": [
      "hola\n",
      "9.0\n"
     ]
    }
   ],
   "source": [
    "try:\n",
    "    a=9\n",
    "    b=1  # '10'\n",
    "    \n",
    "    print('hola')\n",
    "    #print(f)\n",
    "    print(a/b)\n",
    "    \n",
    "    \n",
    "except TypeError as e:\n",
    "    print('estoy aqui', e)\n",
    "    print(f)\n",
    "    \n",
    "except ZeroDivisionError as e:\n",
    "    print('Alegre....las liao...')\n",
    "    print('Error: ', e)\n",
    "    \n",
    "except:\n",
    "    print('otro tipo de error distinto.')"
   ]
  },
  {
   "cell_type": "markdown",
   "metadata": {},
   "source": [
    "## Programación defensiva\n",
    "\n",
    "Todos estos conceptos de manejo de errores nos lleva a la programación defensiva. El objetivo consiste en tener en cuenta errores sistemáticos que se pudieran estar cometiendo en nuestro código."
   ]
  },
  {
   "cell_type": "code",
   "execution_count": 21,
   "metadata": {},
   "outputs": [],
   "source": [
    "clientes = {'a_1234': 35.34, \n",
    "            'b_4355': 76.8, \n",
    "            'a_5890': '108,80'}"
   ]
  },
  {
   "cell_type": "code",
   "execution_count": 22,
   "metadata": {},
   "outputs": [
    {
     "ename": "ValueError",
     "evalue": "could not convert string to float: '108,80'",
     "output_type": "error",
     "traceback": [
      "\u001b[0;31m---------------------------------------------------------------------------\u001b[0m",
      "\u001b[0;31mValueError\u001b[0m                                Traceback (most recent call last)",
      "Cell \u001b[0;32mIn[22], line 1\u001b[0m\n\u001b[0;32m----> 1\u001b[0m \u001b[38;5;28;43mfloat\u001b[39;49m\u001b[43m(\u001b[49m\u001b[38;5;124;43m'\u001b[39;49m\u001b[38;5;124;43m108,80\u001b[39;49m\u001b[38;5;124;43m'\u001b[39;49m\u001b[43m)\u001b[49m\n",
      "\u001b[0;31mValueError\u001b[0m: could not convert string to float: '108,80'"
     ]
    }
   ],
   "source": [
    "float('108,80')"
   ]
  },
  {
   "cell_type": "code",
   "execution_count": 23,
   "metadata": {},
   "outputs": [],
   "source": [
    "pasan = []\n",
    "\n",
    "no_pasan = []"
   ]
  },
  {
   "cell_type": "code",
   "execution_count": 24,
   "metadata": {},
   "outputs": [],
   "source": [
    "for k,v in clientes.items():\n",
    "    \n",
    "    if type(v)==float:\n",
    "        total = int(v) * 4/3\n",
    "        \n",
    "        pasan.append({k: total})\n",
    "        \n",
    "    elif type(v)==str:\n",
    "        \n",
    "        no_pasan.append({k: v})"
   ]
  },
  {
   "cell_type": "code",
   "execution_count": 25,
   "metadata": {},
   "outputs": [
    {
     "data": {
      "text/plain": [
       "[{'a_1234': 46.666666666666664}, {'b_4355': 101.33333333333333}]"
      ]
     },
     "execution_count": 25,
     "metadata": {},
     "output_type": "execute_result"
    }
   ],
   "source": [
    "pasan"
   ]
  },
  {
   "cell_type": "code",
   "execution_count": 26,
   "metadata": {},
   "outputs": [
    {
     "data": {
      "text/plain": [
       "[{'a_5890': '108,80'}]"
      ]
     },
     "execution_count": 26,
     "metadata": {},
     "output_type": "execute_result"
    }
   ],
   "source": [
    "no_pasan"
   ]
  },
  {
   "cell_type": "code",
   "execution_count": 28,
   "metadata": {},
   "outputs": [],
   "source": [
    "pasan = []\n",
    "\n",
    "no_pasan = []"
   ]
  },
  {
   "cell_type": "code",
   "execution_count": 29,
   "metadata": {},
   "outputs": [],
   "source": [
    "for k,v in clientes.items():\n",
    "    \n",
    "    try:\n",
    "        total = int(v) * 4/3\n",
    "        \n",
    "        pasan.append({k: total})\n",
    "        \n",
    "    except:\n",
    "        \n",
    "        no_pasan.append({k: v})"
   ]
  },
  {
   "cell_type": "code",
   "execution_count": 30,
   "metadata": {},
   "outputs": [
    {
     "data": {
      "text/plain": [
       "[{'a_1234': 46.666666666666664}, {'b_4355': 101.33333333333333}]"
      ]
     },
     "execution_count": 30,
     "metadata": {},
     "output_type": "execute_result"
    }
   ],
   "source": [
    "pasan"
   ]
  },
  {
   "cell_type": "code",
   "execution_count": 31,
   "metadata": {},
   "outputs": [
    {
     "data": {
      "text/plain": [
       "[{'a_5890': '108,80'}]"
      ]
     },
     "execution_count": 31,
     "metadata": {},
     "output_type": "execute_result"
    }
   ],
   "source": [
    "no_pasan"
   ]
  },
  {
   "cell_type": "markdown",
   "metadata": {},
   "source": [
    "### `finally`\n",
    "\n",
    "> Los bloques `try` y `except` son los dos bloques comunes en el manejo de errores, pero toda la sintaxis la constituyen cuatro bloques.\n",
    "El bloque `finally` se ejecutará siempre después del `try` o el `except`. Se ejecutará incluso si existe un `return` en otro bloque."
   ]
  },
  {
   "cell_type": "code",
   "execution_count": 34,
   "metadata": {},
   "outputs": [
    {
     "name": "stdout",
     "output_type": "stream",
     "text": [
      "error a proposito\n",
      "Esto tira igual\n",
      "99999999\n"
     ]
    }
   ],
   "source": [
    "try:\n",
    "    raise ValueError\n",
    "    print('hola')\n",
    "    \n",
    "except:\n",
    "    #raise ValueError\n",
    "    print('error a proposito')\n",
    "    \n",
    "finally:\n",
    "    print('Esto tira igual')\n",
    "    \n",
    "    \n",
    "    \n",
    "print(99999999)"
   ]
  },
  {
   "cell_type": "markdown",
   "metadata": {},
   "source": [
    "### `else`\n",
    "\n",
    "> El bloque `else` puede ser usado como una alternativa al bloque `except`. En ese caso se ejecutará antes del bloque `finally`."
   ]
  },
  {
   "cell_type": "code",
   "execution_count": 40,
   "metadata": {},
   "outputs": [
    {
     "name": "stdout",
     "output_type": "stream",
     "text": [
      "hola\n",
      "...antes del final...\n",
      "Esto tira igual\n",
      "99999999\n"
     ]
    }
   ],
   "source": [
    "try:\n",
    "    #raise ValueError\n",
    "    print('hola')\n",
    "    \n",
    "except:\n",
    "    #raise ValueError\n",
    "    print('error a proposito')\n",
    "    \n",
    "\n",
    "else:\n",
    "    print('...antes del final...')  # si to va bien, el try\n",
    "    \n",
    "finally:\n",
    "    print('Esto tira igual')\n",
    "    \n",
    "    \n",
    "    \n",
    "print(99999999)"
   ]
  },
  {
   "cell_type": "code",
   "execution_count": 42,
   "metadata": {},
   "outputs": [
    {
     "name": "stdout",
     "output_type": "stream",
     "text": [
      "segundo except\n",
      "Se ejecuta igualmente\n"
     ]
    },
    {
     "ename": "SyntaxError",
     "evalue": "None (<string>)",
     "output_type": "error",
     "traceback": [
      "Traceback \u001b[0;36m(most recent call last)\u001b[0m:\n",
      "\u001b[0;36m  Cell \u001b[0;32mIn[42], line 2\u001b[0;36m\n\u001b[0;31m    raise ValueError\u001b[0;36m\n",
      "\u001b[0;31mValueError\u001b[0m\n",
      "\nDuring handling of the above exception, another exception occurred:\n",
      "Traceback \u001b[0;36m(most recent call last)\u001b[0m:\n",
      "\u001b[0;36m  Cell \u001b[0;32mIn[42], line 8\u001b[0;36m\n\u001b[0;31m    raise ValueError\u001b[0;36m\n",
      "\u001b[0;31mValueError\u001b[0m\n",
      "\nDuring handling of the above exception, another exception occurred:\n",
      "Traceback \u001b[0;36m(most recent call last)\u001b[0m:\n",
      "\u001b[0m  File \u001b[1;32m/opt/homebrew/Caskroom/miniconda/base/envs/clase/lib/python3.9/site-packages/IPython/core/interactiveshell.py:3433\u001b[0m in \u001b[1;35mrun_code\u001b[0m\n    exec(code_obj, self.user_global_ns, self.user_ns)\u001b[0m\n",
      "\u001b[0;36m  Cell \u001b[0;32mIn[42], line 12\u001b[0;36m\n\u001b[0;31m    raise SyntaxError\u001b[0;36m\n",
      "\u001b[0;36m  File \u001b[0;32m<string>\u001b[0;36m\u001b[0m\n\u001b[0;31mSyntaxError\u001b[0m\n"
     ]
    }
   ],
   "source": [
    "try:\n",
    "    raise ValueError\n",
    "    print('Toda va bien....')\n",
    "    \n",
    "except:\n",
    "    \n",
    "    try:\n",
    "        raise ValueError\n",
    "        print('segundo try')\n",
    "    except:\n",
    "        print('segundo except')\n",
    "        raise SyntaxError\n",
    "    \n",
    "\n",
    "finally:\n",
    "    print('Se ejecuta igualmente')"
   ]
  },
  {
   "cell_type": "code",
   "execution_count": null,
   "metadata": {},
   "outputs": [],
   "source": []
  }
 ],
 "metadata": {
  "kernelspec": {
   "display_name": "clase",
   "language": "python",
   "name": "clase"
  },
  "language_info": {
   "codemirror_mode": {
    "name": "ipython",
    "version": 3
   },
   "file_extension": ".py",
   "mimetype": "text/x-python",
   "name": "python",
   "nbconvert_exporter": "python",
   "pygments_lexer": "ipython3",
   "version": "3.9.12"
  }
 },
 "nbformat": 4,
 "nbformat_minor": 4
}
